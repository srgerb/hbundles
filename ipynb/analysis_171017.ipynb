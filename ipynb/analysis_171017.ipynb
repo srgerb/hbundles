{
 "cells": [
  {
   "cell_type": "code",
   "execution_count": 28,
   "metadata": {},
   "outputs": [],
   "source": [
    "%matplotlib inline\n",
    "import os\n",
    "import numpy as np\n",
    "import pandas as pd\n",
    "import matplotlib as mpl\n",
    "import matplotlib.pyplot as plt\n",
    "import shutil"
   ]
  },
  {
   "cell_type": "code",
   "execution_count": 29,
   "metadata": {},
   "outputs": [
    {
     "name": "stdout",
     "output_type": "stream",
     "text": [
      "/home/srgerb/hBundles/nickel/backbones/combine/cut_chain/36_71\n",
      "      SCORE  SCORE:                                        description  \\\n",
      "0       NaN  SCORE:  01_16_0.00_0.00_11.65_7.80_0.00_60.00_20.50.pd...   \n",
      "1       NaN  SCORE:  01_16_0.00_0.00_11.65_7.80_0.00_60.00_20.50.pd...   \n",
      "2       NaN  SCORE:  01_16_0.00_0.00_11.65_7.80_0.00_60.00_20.50.pd...   \n",
      "3       NaN  SCORE:  02_21_0.00_0.00_16.00_7.80_0.00_60.00_20.50.pd...   \n",
      "4       NaN  SCORE:  01_16_0.00_0.00_11.65_7.80_0.00_60.00_20.50.pd...   \n",
      "5       NaN  SCORE:  01_16_0.00_0.00_11.65_7.80_0.00_60.00_20.50.pd...   \n",
      "6       NaN  SCORE:  02_21_0.00_0.00_16.00_7.80_0.00_60.00_20.50.pd...   \n",
      "7       NaN  SCORE:  01_16_0.00_0.00_11.65_7.80_0.00_60.00_20.50.pd...   \n",
      "8       NaN  SCORE:  02_21_0.00_0.00_16.00_7.80_0.00_60.00_20.50.pd...   \n",
      "9       NaN  SCORE:  02_21_0.00_0.00_16.00_7.80_0.00_60.00_20.50.pd...   \n",
      "10      NaN  SCORE:  02_21_0.00_0.00_12.00_7.80_0.00_60.00_20.50.pd...   \n",
      "11      NaN  SCORE:  01_16_0.00_0.00_11.65_7.80_0.00_60.00_20.50.pd...   \n",
      "12      NaN  SCORE:  02_21_0.00_0.00_15.00_7.80_0.00_60.00_20.50.pd...   \n",
      "13      NaN  SCORE:  02_21_0.00_0.00_11.00_7.80_0.00_60.00_20.50.pd...   \n",
      "14      NaN  SCORE:  02_21_0.00_0.00_11.00_7.80_0.00_60.00_20.50.pd...   \n",
      "15      NaN  SCORE:  02_21_0.00_0.00_16.00_7.80_0.00_60.00_20.50.pd...   \n",
      "16      NaN  SCORE:  02_21_0.00_0.00_12.00_7.80_0.00_60.00_20.50.pd...   \n",
      "17      NaN  SCORE:  02_21_0.00_0.00_16.00_7.80_0.00_60.00_20.50.pd...   \n",
      "18      NaN  SCORE:  01_16_0.00_0.00_11.65_7.80_0.00_60.00_20.50.pd...   \n",
      "19      NaN  SCORE:  02_21_0.00_0.00_15.00_7.80_0.00_60.00_20.50.pd...   \n",
      "20      NaN  SCORE:  02_21_0.00_0.00_11.00_7.80_0.00_60.00_20.50.pd...   \n",
      "21      NaN  SCORE:  02_21_0.00_0.00_14.00_7.80_0.00_60.00_20.50.pd...   \n",
      "22      NaN  SCORE:  02_21_0.00_0.00_14.00_7.80_0.00_60.00_20.50.pd...   \n",
      "23      NaN  SCORE:  02_21_0.00_0.00_13.00_7.80_0.00_60.00_20.50.pd...   \n",
      "24      NaN  SCORE:  02_21_0.00_0.00_16.00_7.80_0.00_60.00_20.50.pd...   \n",
      "25      NaN  SCORE:  02_21_0.00_0.00_15.00_7.80_0.00_60.00_20.50.pd...   \n",
      "26      NaN  SCORE:  02_21_0.00_0.00_13.00_7.80_0.00_60.00_20.50.pd...   \n",
      "27      NaN  SCORE:  02_21_0.00_0.00_14.00_7.80_0.00_60.00_20.50.pd...   \n",
      "28      NaN  SCORE:  02_21_0.00_0.00_16.00_7.80_0.00_60.00_20.50.pd...   \n",
      "29      NaN  SCORE:  02_21_0.00_0.00_12.00_7.80_0.00_60.00_20.50.pd...   \n",
      "...     ...     ...                                                ...   \n",
      "1693    NaN  SCORE:  02_21_0.00_0.00_11.00_7.80_0.00_60.00_20.50.pd...   \n",
      "1694    NaN  SCORE:  02_21_0.00_0.00_10.00_7.80_0.00_60.00_20.50.pd...   \n",
      "1695    NaN  SCORE:  02_21_0.00_0.00_8.00_7.80_0.00_60.00_20.50.pdb...   \n",
      "1696    NaN  SCORE:  02_21_0.00_0.00_16.00_7.80_0.00_60.00_20.50.pd...   \n",
      "1697    NaN  SCORE:  01_16_0.00_0.00_11.65_7.80_0.00_60.00_20.50.pd...   \n",
      "1698    NaN  SCORE:  02_21_0.00_0.00_17.00_7.80_0.00_60.00_20.50.pd...   \n",
      "1699    NaN  SCORE:  02_21_0.00_0.00_11.00_7.80_0.00_60.00_20.50.pd...   \n",
      "1700    NaN  SCORE:  02_21_0.00_0.00_16.00_7.80_0.00_60.00_20.50.pd...   \n",
      "1701    NaN  SCORE:  02_21_0.00_0.00_9.00_7.80_0.00_60.00_20.50.pdb...   \n",
      "1702    NaN  SCORE:  02_21_0.00_0.00_14.00_7.80_0.00_60.00_20.50.pd...   \n",
      "1703    NaN  SCORE:  02_21_0.00_0.00_16.00_7.80_0.00_60.00_20.50.pd...   \n",
      "1704    NaN  SCORE:  02_21_0.00_0.00_12.00_7.80_0.00_60.00_20.50.pd...   \n",
      "1705    NaN  SCORE:  02_21_0.00_0.00_8.00_7.80_0.00_60.00_20.50.pdb...   \n",
      "1706    NaN  SCORE:  02_21_0.00_0.00_11.00_7.80_0.00_60.00_20.50.pd...   \n",
      "1707    NaN  SCORE:  02_21_0.00_0.00_15.00_7.80_0.00_60.00_20.50.pd...   \n",
      "1708    NaN  SCORE:  02_21_0.00_0.00_16.00_7.80_0.00_60.00_20.50.pd...   \n",
      "1709    NaN  SCORE:  02_21_0.00_0.00_10.00_7.80_0.00_60.00_20.50.pd...   \n",
      "1710    NaN  SCORE:  02_21_0.00_0.00_13.00_7.80_0.00_60.00_20.50.pd...   \n",
      "1711    NaN  SCORE:  02_21_0.00_0.00_17.00_7.80_0.00_60.00_20.50.pd...   \n",
      "1712    NaN  SCORE:  02_21_0.00_0.00_9.00_7.80_0.00_60.00_20.50.pdb...   \n",
      "1713    NaN  SCORE:  02_21_0.00_0.00_16.00_7.80_0.00_60.00_20.50.pd...   \n",
      "1714    NaN  SCORE:  02_21_0.00_0.00_11.00_7.80_0.00_60.00_20.50.pd...   \n",
      "1715    NaN  SCORE:  02_21_0.00_0.00_16.00_7.80_0.00_60.00_20.50.pd...   \n",
      "1716    NaN  SCORE:  02_21_0.00_0.00_8.00_7.80_0.00_60.00_20.50.pdb...   \n",
      "1717    NaN  SCORE:  01_16_0.00_0.00_11.65_7.80_0.00_60.00_20.50.pd...   \n",
      "1718    NaN  SCORE:  02_21_0.00_0.00_12.00_7.80_0.00_60.00_20.50.pd...   \n",
      "1719    NaN  SCORE:  02_21_0.00_0.00_11.00_7.80_0.00_60.00_20.50.pd...   \n",
      "1720    NaN  SCORE:  02_21_0.00_0.00_16.00_7.80_0.00_60.00_20.50.pd...   \n",
      "1721    NaN  SCORE:  02_21_0.00_0.00_14.00_7.80_0.00_60.00_20.50.pd...   \n",
      "1722    NaN  SCORE:  02_21_0.00_0.00_15.00_7.80_0.00_60.00_20.50.pd...   \n",
      "\n",
      "      dslf_fa13   fa_atr  fa_dun_dev  fa_dun_rot  fa_dun_semi  fa_elec  \\\n",
      "0           0.0 -320.176       0.006      32.345       44.869 -147.748   \n",
      "1           0.0 -322.413       0.006      32.345       44.869 -148.779   \n",
      "2           0.0 -323.657       0.006      32.345       44.869 -156.531   \n",
      "3           0.0 -318.825       0.006      32.345       44.896 -153.484   \n",
      "4           0.0 -320.176       0.006      32.345       44.869 -147.748   \n",
      "5           0.0 -322.413       0.006      32.345       44.869 -148.779   \n",
      "6           0.0 -314.211       0.006      32.345       44.896 -148.513   \n",
      "7           0.0 -323.657       0.006      32.345       44.869 -156.531   \n",
      "8           0.0 -321.769       0.006      32.345       44.896 -150.299   \n",
      "9           0.0 -322.439       0.006      32.345       44.896 -150.698   \n",
      "10          0.0 -325.758       0.006      32.345       44.882 -158.588   \n",
      "11          0.0 -328.110       0.006      32.345       44.869 -158.330   \n",
      "12          0.0 -317.722       0.006      32.345       44.892 -151.692   \n",
      "13          0.0 -327.717       0.006      32.345       44.878 -158.735   \n",
      "14          0.0 -321.525       0.006      32.345       44.878 -152.566   \n",
      "15          0.0 -319.753       0.006      32.345       44.896 -147.463   \n",
      "16          0.0 -319.885       0.006      32.345       44.882 -150.276   \n",
      "17          0.0 -333.823       0.006      32.345       44.896 -152.384   \n",
      "18          0.0 -322.951       0.006      32.345       44.869 -152.341   \n",
      "19          0.0 -314.998       0.006      32.345       44.892 -143.314   \n",
      "20          0.0 -322.044       0.006      32.345       44.878 -154.519   \n",
      "21          0.0 -322.856       0.006      32.345       44.888 -150.728   \n",
      "22          0.0 -315.419       0.006      32.345       44.888 -142.626   \n",
      "23          0.0 -338.652       0.006      32.345       44.885 -161.008   \n",
      "24          0.0 -315.005       0.006      32.345       44.896 -147.044   \n",
      "25          0.0 -315.002       0.006      32.345       44.892 -148.283   \n",
      "26          0.0 -315.177       0.006      32.345       44.885 -147.671   \n",
      "27          0.0 -319.384       0.006      32.345       44.888 -149.650   \n",
      "28          0.0 -320.088       0.006      32.345       44.896 -150.629   \n",
      "29          0.0 -339.315       0.006      32.345       44.882 -163.118   \n",
      "...         ...      ...         ...         ...          ...      ...   \n",
      "1693        0.0 -318.710       0.006      32.345       44.878 -151.524   \n",
      "1694        0.0 -329.203       0.006      32.345       44.874 -154.238   \n",
      "1695        0.0 -314.739       0.006      32.345       44.869 -142.523   \n",
      "1696        0.0 -315.913       0.006      32.345       44.896 -144.298   \n",
      "1697        0.0 -315.129       0.006      32.345       44.869 -144.998   \n",
      "1698        0.0 -321.571       0.006      32.345       44.898 -150.552   \n",
      "1699        0.0 -312.847       0.006      32.345       44.878 -150.485   \n",
      "1700        0.0 -320.942       0.006      32.345       44.896 -151.387   \n",
      "1701        0.0 -328.992       0.006      32.345       44.873 -155.264   \n",
      "1702        0.0 -309.669       0.006      32.345       44.888 -142.094   \n",
      "1703        0.0 -320.753       0.006      32.345       44.896 -158.996   \n",
      "1704        0.0 -314.851       0.006      32.345       44.882 -135.965   \n",
      "1705        0.0 -333.840       0.006      32.345       44.869 -147.168   \n",
      "1706        0.0 -309.947       0.006      32.345       44.878 -145.085   \n",
      "1707        0.0 -309.553       0.006      32.345       44.892 -145.090   \n",
      "1708        0.0 -331.112       0.006      32.345       44.896 -142.609   \n",
      "1709        0.0 -325.939       0.006      32.345       44.874 -154.588   \n",
      "1710        0.0 -317.545       0.006      32.345       44.885 -151.425   \n",
      "1711        0.0 -321.691       0.006      32.345       44.898 -153.074   \n",
      "1712        0.0 -329.923       0.006      32.345       44.873 -158.040   \n",
      "1713        0.0 -320.146       0.006      32.345       44.896 -155.411   \n",
      "1714        0.0 -307.532       0.006      32.345       44.878 -144.761   \n",
      "1715        0.0 -330.708       0.006      32.345       44.896 -156.968   \n",
      "1716        0.0 -325.269       0.006      32.345       44.869 -156.745   \n",
      "1717        0.0 -320.006       0.006      32.345       44.869 -151.633   \n",
      "1718        0.0 -310.734       0.006      32.345       44.882 -146.060   \n",
      "1719        0.0 -310.093       0.006      32.345       44.878 -145.307   \n",
      "1720        0.0 -328.914       0.006      32.345       44.896 -159.095   \n",
      "1721        0.0 -311.810       0.006      32.345       44.888 -146.490   \n",
      "1722        0.0 -314.315       0.006      32.345       44.892 -135.597   \n",
      "\n",
      "      fa_intra_atr_xover4     ...       lk_ball  lk_ball_bridge  \\\n",
      "0                 -19.435     ...       185.289          -0.222   \n",
      "1                 -19.430     ...       186.484          -0.228   \n",
      "2                 -19.412     ...       190.907          -0.309   \n",
      "3                 -19.408     ...       186.232          -0.246   \n",
      "4                 -19.435     ...       185.289          -0.222   \n",
      "5                 -19.430     ...       186.484          -0.228   \n",
      "6                 -19.442     ...       182.077          -0.252   \n",
      "7                 -19.412     ...       190.907          -0.309   \n",
      "8                 -19.423     ...       187.628          -0.245   \n",
      "9                 -19.423     ...       187.757          -0.224   \n",
      "10                -19.413     ...       194.372          -0.252   \n",
      "11                -19.395     ...       192.788          -0.221   \n",
      "12                -19.427     ...       184.197          -0.294   \n",
      "13                -19.395     ...       192.290          -0.220   \n",
      "14                -19.414     ...       186.065          -0.272   \n",
      "15                -19.426     ...       185.029          -0.224   \n",
      "16                -19.419     ...       184.494          -0.223   \n",
      "17                -19.406     ...       194.133          -0.262   \n",
      "18                -19.403     ...       190.119          -0.220   \n",
      "19                -19.442     ...       180.271          -0.226   \n",
      "20                -19.431     ...       188.994          -0.221   \n",
      "21                -19.426     ...       187.960          -0.220   \n",
      "22                -19.444     ...       180.426          -0.221   \n",
      "23                -19.396     ...       200.420          -0.331   \n",
      "24                -19.422     ...       181.545          -0.256   \n",
      "25                -19.438     ...       183.404          -0.332   \n",
      "26                -19.442     ...       182.282          -0.338   \n",
      "27                -19.418     ...       184.433          -0.226   \n",
      "28                -19.425     ...       187.044          -0.279   \n",
      "29                -19.389     ...       201.478          -0.326   \n",
      "...                   ...     ...           ...             ...   \n",
      "1693              -19.354     ...       185.763          -0.240   \n",
      "1694              -19.427     ...       191.190          -0.277   \n",
      "1695              -19.448     ...       181.011          -0.229   \n",
      "1696              -19.407     ...       182.075          -0.224   \n",
      "1697              -19.391     ...       179.733          -0.220   \n",
      "1698              -19.426     ...       187.386          -0.231   \n",
      "1699              -19.359     ...       182.662          -0.229   \n",
      "1700              -19.390     ...       186.857          -0.257   \n",
      "1701              -19.435     ...       194.101          -0.278   \n",
      "1702              -19.396     ...       176.967          -0.289   \n",
      "1703              -19.369     ...       189.263          -0.260   \n",
      "1704              -19.331     ...       180.742          -0.262   \n",
      "1705              -19.416     ...       198.669          -0.260   \n",
      "1706              -19.338     ...       178.144          -0.280   \n",
      "1707              -19.341     ...       179.879          -0.220   \n",
      "1708              -19.402     ...       193.226          -0.226   \n",
      "1709              -19.476     ...       191.772          -0.288   \n",
      "1710              -19.382     ...       184.729          -0.220   \n",
      "1711              -19.435     ...       188.408          -0.223   \n",
      "1712              -19.448     ...       195.950          -0.225   \n",
      "1713              -19.376     ...       186.400          -0.242   \n",
      "1714              -19.374     ...       178.072          -0.220   \n",
      "1715              -19.399     ...       195.710          -0.239   \n",
      "1716              -19.430     ...       189.420          -0.303   \n",
      "1717              -19.345     ...       187.684          -0.285   \n",
      "1718              -19.341     ...       180.755          -0.220   \n",
      "1719              -19.356     ...       179.435          -0.261   \n",
      "1720              -19.431     ...       194.273          -0.263   \n",
      "1721              -19.362     ...       181.551          -0.221   \n",
      "1722              -19.326     ...       179.743          -0.300   \n",
      "\n",
      "      lk_ball_bridge_uncpl  lk_ball_iso   omega  p_aa_pp  pro_close  \\\n",
      "0                   -1.253     -178.649  10.770   12.006        0.0   \n",
      "1                   -1.329     -180.168  11.239   13.339        0.0   \n",
      "2                   -1.722     -181.682  10.572   11.487        0.0   \n",
      "3                   -1.382     -178.423  10.519   13.178        0.0   \n",
      "4                   -1.253     -178.649  10.770   12.006        0.0   \n",
      "5                   -1.329     -180.168  11.239   13.339        0.0   \n",
      "6                   -1.462     -176.056  10.724   12.500        0.0   \n",
      "7                   -1.722     -181.682  10.572   11.487        0.0   \n",
      "8                   -1.347     -179.835  10.753   11.868        0.0   \n",
      "9                   -1.260     -180.532  10.733   11.979        0.0   \n",
      "10                  -1.455     -183.488   9.967   11.029        0.0   \n",
      "11                  -1.249     -183.651  11.910   13.210        0.0   \n",
      "12                  -1.603     -177.785  10.412   14.193        0.0   \n",
      "13                  -1.245     -183.431  11.667   13.435        0.0   \n",
      "14                  -1.651     -179.222  10.217   11.665        0.0   \n",
      "15                  -1.258     -178.389  11.157   12.453        0.0   \n",
      "16                  -1.269     -178.860  10.495   14.072        0.0   \n",
      "17                  -1.463     -186.852  17.187   13.602        0.0   \n",
      "18                  -1.245     -180.400  11.459   15.858        0.0   \n",
      "19                  -1.262     -175.632  11.081   13.119        0.0   \n",
      "20                  -1.249     -180.352  10.512   13.345        0.0   \n",
      "21                  -1.245     -180.659  10.389   12.317        0.0   \n",
      "22                  -1.246     -175.662  11.323   13.450        0.0   \n",
      "23                  -1.853     -190.142  11.019   12.691        0.0   \n",
      "24                  -1.431     -176.082  10.868   12.118        0.0   \n",
      "25                  -1.724     -176.784  10.924   11.157        0.0   \n",
      "26                  -1.725     -176.559  10.756   11.275        0.0   \n",
      "27                  -1.306     -178.620  10.524   14.446        0.0   \n",
      "28                  -1.483     -179.377  10.051   10.889        0.0   \n",
      "29                  -1.838     -190.939  11.242   12.022        0.0   \n",
      "...                    ...          ...     ...      ...        ...   \n",
      "1693                -1.369     -178.470  10.294   10.791        0.0   \n",
      "1694                -1.582     -184.330  10.321   11.436        0.0   \n",
      "1695                -1.270     -175.532  10.329   12.797        0.0   \n",
      "1696                -1.260     -175.553  10.354   11.447        0.0   \n",
      "1697                -1.245     -176.053  10.086   12.953        0.0   \n",
      "1698                -1.294     -179.955  10.470   11.854        0.0   \n",
      "1699                -1.327     -175.082  11.890   10.645        0.0   \n",
      "1700                -1.404     -180.216  10.234   10.411        0.0   \n",
      "1701                -1.537     -185.098  10.395   10.506        0.0   \n",
      "1702                -1.739     -173.014  11.069   15.174        0.0   \n",
      "1703                -1.416     -180.256  10.375   10.545        0.0   \n",
      "1704                -1.367     -175.181  26.486   12.576        0.0   \n",
      "1705                -1.402     -187.305  21.482   12.403        0.0   \n",
      "1706                -1.507     -173.114  11.028   14.995        0.0   \n",
      "1707                -1.245     -172.547  10.097   11.287        0.0   \n",
      "1708                -1.289     -185.073  23.542   11.049        0.0   \n",
      "1709                -1.605     -182.807  10.962   12.910        0.0   \n",
      "1710                -1.245     -177.658  10.462   11.754        0.0   \n",
      "1711                -1.252     -180.345  10.566   15.075        0.0   \n",
      "1712                -1.261     -185.409  14.362    9.777        0.0   \n",
      "1713                -1.436     -179.424  10.372   10.626        0.0   \n",
      "1714                -1.245     -171.167  10.391   12.080        0.0   \n",
      "1715                -1.306     -185.598  10.576   10.617        0.0   \n",
      "1716                -1.740     -182.576  10.466   13.162        0.0   \n",
      "1717                -1.650     -179.340  10.236   13.749        0.0   \n",
      "1718                -1.245     -173.244   9.979   11.160        0.0   \n",
      "1719                -1.470     -172.757  10.595   11.848        0.0   \n",
      "1720                -1.495     -184.571  10.152   10.821        0.0   \n",
      "1721                -1.246     -174.224  10.771   11.549        0.0   \n",
      "1722                -1.478     -174.732  26.021   12.610        0.0   \n",
      "\n",
      "      rama_prepro     ref  total_score  \n",
      "0           8.119  13.790      -57.144  \n",
      "1          10.077  13.790      -28.143  \n",
      "2          13.053  13.790      -53.948  \n",
      "3          13.234  13.790      -23.060  \n",
      "4           8.119  13.790      -57.144  \n",
      "5          10.077  13.790      -28.143  \n",
      "6          17.792  13.790      -43.586  \n",
      "7          13.053  13.790      -53.948  \n",
      "8          10.515  13.790      -43.922  \n",
      "9          12.375  13.790       -5.318  \n",
      "10          9.503  13.790      -59.002  \n",
      "11         22.512  13.790      -29.851  \n",
      "12         13.778  13.790      -41.391  \n",
      "13         22.182  13.790      -31.050  \n",
      "14         22.632  13.790      -46.964  \n",
      "15         10.216  13.790      -19.774  \n",
      "16         14.272  13.790      -39.852  \n",
      "17         37.140  13.790     1311.815  \n",
      "18         26.405  13.790       -3.586  \n",
      "19          9.441  13.790      -48.641  \n",
      "20          8.689  13.790      -46.701  \n",
      "21         11.685  13.790      -13.079  \n",
      "22         10.726  13.790      -45.797  \n",
      "23         12.730  13.790     1200.158  \n",
      "24         18.366  13.790      -31.677  \n",
      "25         15.287  13.790      -30.942  \n",
      "26         14.716  13.790      -32.463  \n",
      "27         15.427  13.790      -39.047  \n",
      "28          7.344  13.790      -48.594  \n",
      "29         14.249  13.790     1023.810  \n",
      "...           ...     ...          ...  \n",
      "1693       16.416   8.272      -34.074  \n",
      "1694       15.896  15.629       -9.757  \n",
      "1695       11.939  15.629      -42.439  \n",
      "1696        6.773  11.950      -56.662  \n",
      "1697       14.101  10.111      -30.193  \n",
      "1698       11.394  13.790      -13.045  \n",
      "1699       15.067   8.272      -40.190  \n",
      "1700       11.846  11.950      -30.368  \n",
      "1701       12.929  15.629      -32.084  \n",
      "1702       18.572  10.111      -11.061  \n",
      "1703       10.554  10.111      -61.880  \n",
      "1704       25.116   8.272     1075.965  \n",
      "1705       35.800  15.629     1350.739  \n",
      "1706       26.905   8.272      101.873  \n",
      "1707        8.253   8.272      -55.391  \n",
      "1708       30.142  13.790     1179.900  \n",
      "1709       17.718  15.629      -32.456  \n",
      "1710       12.336  10.111      -53.691  \n",
      "1711       11.847  13.790      -30.399  \n",
      "1712       15.303  15.629        3.247  \n",
      "1713        9.220  11.950      -68.395  \n",
      "1714       11.111   8.272      -53.199  \n",
      "1715        7.937  13.790      -51.849  \n",
      "1716       12.090  15.629      -51.325  \n",
      "1717       15.843   8.272      -27.479  \n",
      "1718        8.105   8.272      -56.995  \n",
      "1719        9.550   8.272      -55.997  \n",
      "1720        7.196  15.629      -70.335  \n",
      "1721       13.899  10.111      -40.435  \n",
      "1722       28.776   8.272     1000.604  \n",
      "\n",
      "[1723 rows x 31 columns]\n"
     ]
    }
   ],
   "source": [
    "directory = os.getcwd()\n",
    "print (directory)\n",
    "scores = {'SCORE':[], 'total_score':[], 'dslf_fa13':[], 'fa_atr':[], 'fa_dun_dev':[], 'fa_dun_rot':[], 'fa_elec':[], 'fa_intra_attr_xover4':[], 'fa_intra_elec':[], 'fa_intra_rep_xover4':[], 'fa_intra_sol_xover4':[], 'fa_rep':[], 'fa_sol':[], 'hbond_bb_sc':[], 'hbond_lr_bb':[], 'hbond_sc':[], 'hbond_sr_bb':[], 'hxl_tors':[], 'lk_ball':[], 'lk_ball_bridge':[], 'lk_ball_bridge_uncpl':[], 'lk_ball_iso':[], 'omega':[], 'p_aa_pp':[], 'pro_close':[], 'rama_prepro':[], 'ref':[], 'description':[]}\n",
    "score_frame = pd.DataFrame(scores)\n",
    "# for directory in directories: \n",
    "#     number = int(directory.split('_', 3)[-1])\n",
    "#     print dataset_num\n",
    "#for root, dirs, files in os.walk(directory):\n",
    "#        if root != directory and root!= directory + \"/.ipynb_checkpoints/\":\n",
    "#            score_file = root + \"/score.sc\"\n",
    "#            print (score_file)\n",
    "##             dataset_num = np.array([number])\n",
    "#            if os.path.exists(score_file) == True:\n",
    "#                df = pd.read_csv(score_file, header=1, sep='\\s+')\n",
    "##                 dataset_num = np.repeat(dataset_num, df.shape[0])\n",
    "##                 print dataset_num\n",
    "##                 df['dataset'] = dataset_num\n",
    "#                    score_frame = pd.concat([score_frame, df])\n",
    "score_file = directory + \"/score.sc.filtered\"\n",
    "df = pd.read_csv(score_file, header=1, sep='\\s+')\n",
    "score_frame = pd.concat([score_frame, df])\n",
    "print (score_frame)"
   ]
  },
  {
   "cell_type": "code",
   "execution_count": 30,
   "metadata": {},
   "outputs": [
    {
     "name": "stdout",
     "output_type": "stream",
     "text": [
      "[]\n",
      "total score:  111.72233314 366.417819205\n",
      "-80.9298073128 1.8695888292\n",
      "12.5646494486 5.6178711008\n",
      "15.8849831689 8.29823678858\n",
      "12.4100882182 1.47295332967\n"
     ]
    },
    {
     "data": {
      "image/png": "[encoded data removed]",
      "text/plain": [
       "<matplotlib.figure.Figure at 0x7fffbc9b4f98>"
      ]
     },
     "metadata": {},
     "output_type": "display_data"
    }
   ],
   "source": [
    "#print (score_frame.loc[(score_frame['description'] == 'nan'),'sspred'].values)\n",
    "score_frame['total_score'].hist(bins=50)\n",
    "print (score_frame.loc[(score_frame['total_score'] < -210), 'description'].values)\n",
    "print ('total score: ', score_frame['total_score'].mean(), score_frame['total_score'].std())\n",
    "print (score_frame['hbond_sr_bb'].mean(), score_frame['hbond_sr_bb'].std())\n",
    "print (score_frame['omega'].mean(), score_frame['omega'].std())\n",
    "print (score_frame['rama_prepro'].mean(), score_frame['rama_prepro'].std())\n",
    "print (score_frame['p_aa_pp'].mean(), score_frame['p_aa_pp'].std())"
   ]
  },
  {
   "cell_type": "code",
   "execution_count": 31,
   "metadata": {},
   "outputs": [
    {
     "name": "stdout",
     "output_type": "stream",
     "text": [
      "[ '01_16_0.00_0.00_11.65_7.80_0.00_60.00_20.50.pdb_1_24_117_34_asymm.pdb_36_71_0001_0001'\n",
      " '01_16_0.00_0.00_11.65_7.80_0.00_60.00_20.50.pdb_1_24_117_34_asymm.pdb_36_71_0001_0002'\n",
      " '01_16_0.00_0.00_11.65_7.80_0.00_60.00_20.50.pdb_1_24_117_34_asymm.pdb_36_71_0001_0003'\n",
      " ...,\n",
      " '02_21_0.00_0.00_16.00_7.80_0.00_60.00_20.50.pdb_1_24_117_34_asymm.pdb_36_71_0001_0379'\n",
      " '02_21_0.00_0.00_14.00_7.80_0.00_60.00_20.50.pdb_1_24_117_34_asymm.pdb_36_71_0001_0190'\n",
      " '02_21_0.00_0.00_15.00_7.80_0.00_60.00_20.50.pdb_1_24_117_34_asymm.pdb_36_71_0001_0222']\n"
     ]
    },
    {
     "data": {
      "image/png": "[encoded data removed]",
      "text/plain": [
       "<matplotlib.figure.Figure at 0x7fffc0056e10>"
      ]
     },
     "metadata": {},
     "output_type": "display_data"
    }
   ],
   "source": [
    "score_frame['hbond_sr_bb'].hist(bins=50)\n",
    "# score_frame_2['hbond_lr_bb'].hist()\n",
    "print (score_frame.loc[(score_frame['hbond_sr_bb'] < -65), 'description'].values)\n"
   ]
  },
  {
   "cell_type": "code",
   "execution_count": 10,
   "metadata": {},
   "outputs": [
    {
     "data": {
      "text/plain": [
       "<matplotlib.axes._subplots.AxesSubplot at 0x7fffbf44d6a0>"
      ]
     },
     "execution_count": 10,
     "metadata": {},
     "output_type": "execute_result"
    },
    {
     "data": {
      "image/png": "[encoded data removed]",
      "text/plain": [
       "<matplotlib.figure.Figure at 0x7fffbd004278>"
      ]
     },
     "metadata": {},
     "output_type": "display_data"
    }
   ],
   "source": [
    "score_frame['omega'].hist(bins=40)"
   ]
  },
  {
   "cell_type": "code",
   "execution_count": 11,
   "metadata": {},
   "outputs": [
    {
     "data": {
      "text/plain": [
       "<matplotlib.axes._subplots.AxesSubplot at 0x7fffbcf77d68>"
      ]
     },
     "execution_count": 11,
     "metadata": {},
     "output_type": "execute_result"
    },
    {
     "data": {
      "image/png": "[encoded data removed]",
      "text/plain": [
       "<matplotlib.figure.Figure at 0x7fffbced2048>"
      ]
     },
     "metadata": {},
     "output_type": "display_data"
    }
   ],
   "source": [
    "score_frame['rama_prepro'].hist(bins=50)"
   ]
  },
  {
   "cell_type": "code",
   "execution_count": 12,
   "metadata": {},
   "outputs": [
    {
     "data": {
      "text/plain": [
       "<matplotlib.axes._subplots.AxesSubplot at 0x7fffbcf5da90>"
      ]
     },
     "execution_count": 12,
     "metadata": {},
     "output_type": "execute_result"
    },
    {
     "data": {
      "image/png": "[encoded data removed]",
      "text/plain": [
       "<matplotlib.figure.Figure at 0x7fffbce71630>"
      ]
     },
     "metadata": {},
     "output_type": "display_data"
    }
   ],
   "source": [
    "score_frame['p_aa_pp'].hist(bins=50)"
   ]
  },
  {
   "cell_type": "code",
   "execution_count": 15,
   "metadata": {},
   "outputs": [
    {
     "name": "stdout",
     "output_type": "stream",
     "text": [
      "-150.626698781 5.3333873903\n"
     ]
    },
    {
     "data": {
      "image/png": "[encoded data removed]",
      "text/plain": [
       "<matplotlib.figure.Figure at 0x7fffbf440c50>"
      ]
     },
     "metadata": {},
     "output_type": "display_data"
    }
   ],
   "source": [
    "score_frame['fa_elec'].hist(bins=40)\n",
    "print (score_frame['fa_elec'].mean(), score_frame['fa_elec'].std())"
   ]
  },
  {
   "cell_type": "code",
   "execution_count": 32,
   "metadata": {},
   "outputs": [
    {
     "name": "stdout",
     "output_type": "stream",
     "text": [
      "total_score  111.72233314 366.417819205\n",
      "new_score    -48.6021809045 14.6123443262\n",
      "omega        12.5646494486 5.6178711008\n",
      "hbond_lr_bb  -80.9298073128 1.8695888292\n",
      "rama_prepro  15.8849831689 8.29823678858\n",
      "p_aa_pp      12.4100882182 1.47295332967\n",
      "hbond_sc     -9.567 3.55374509519e-15\n",
      "(398, 31)\n"
     ]
    },
    {
     "data": {
      "image/png": "[encoded data removed]",
      "text/plain": [
       "<matplotlib.figure.Figure at 0x7fffbc99d358>"
      ]
     },
     "metadata": {},
     "output_type": "display_data"
    }
   ],
   "source": [
    "# score_subgroup = score_frame.loc[(score_frame['hbond_lr_bb'] < -53 ) & (score_frame['strain'] < -5 ) & (score_frame['holes'] < 3 ) ]\n",
    "score_subgroup = score_frame.loc[(score_frame['total_score'] < 0) & (score_frame['omega'] < 12) & (score_frame['rama_prepro'] < 12) & (score_frame['hbond_sr_bb'] < -80)] \n",
    "score_subgroup['total_score'].hist(bins=40)\n",
    "print ('total_score ', score_frame['total_score'].mean(), score_frame['total_score'].std())\n",
    "print ('new_score   ', score_subgroup['total_score'].mean(), score_subgroup['total_score'].std())\n",
    "print ('omega       ', score_frame['omega'].mean(), score_frame['omega'].std())\n",
    "print ('hbond_lr_bb ', score_frame['hbond_sr_bb'].mean(), score_frame['hbond_sr_bb'].std())\n",
    "print ('rama_prepro ', score_frame['rama_prepro'].mean(), score_frame['rama_prepro'].std())\n",
    "print ('p_aa_pp     ', score_frame['p_aa_pp'].mean(), score_frame['p_aa_pp'].std())\n",
    "print ('hbond_sc    ', score_frame['hbond_sc'].mean(), score_frame['hbond_sc'].std())\n",
    "print (score_subgroup.shape)"
   ]
  },
  {
   "cell_type": "code",
   "execution_count": 26,
   "metadata": {},
   "outputs": [
    {
     "name": "stdout",
     "output_type": "stream",
     "text": [
      "-81.4212612293 1.81275109936\n"
     ]
    },
    {
     "data": {
      "image/png": "[encoded data removed]",
      "text/plain": [
       "<matplotlib.figure.Figure at 0x7fffbd011940>"
      ]
     },
     "metadata": {},
     "output_type": "display_data"
    }
   ],
   "source": [
    "score_subgroup['hbond_sr_bb'].hist(bins=50)\n",
    "print (score_subgroup['hbond_sr_bb'].mean(), score_subgroup['hbond_sr_bb'].std())"
   ]
  },
  {
   "cell_type": "code",
   "execution_count": 25,
   "metadata": {},
   "outputs": [
    {
     "name": "stdout",
     "output_type": "stream",
     "text": [
      "11.0058191489 0.941249595789\n"
     ]
    },
    {
     "data": {
      "image/png": "[encoded data removed]",
      "text/plain": [
       "<matplotlib.figure.Figure at 0x7fffbcffb3c8>"
      ]
     },
     "metadata": {},
     "output_type": "display_data"
    }
   ],
   "source": [
    "score_subgroup['omega'].hist(bins=50)\n",
    "print (score_subgroup['omega'].mean(), score_subgroup['omega'].std())"
   ]
  },
  {
   "cell_type": "code",
   "execution_count": 34,
   "metadata": {},
   "outputs": [
    {
     "name": "stdout",
     "output_type": "stream",
     "text": [
      "01_16_0.00_0.00_11.65_7.80_0.00_60.00_20.50.pdb_1_24_117_34_asymm.pdb_36_71_0001_0001\n"
     ]
    },
    {
     "ename": "TypeError",
     "evalue": "Can't convert 'float' object to str implicitly",
     "output_type": "error",
     "traceback": [
      "\u001b[0;31m---------------------------------------------------------------------------\u001b[0m",
      "\u001b[0;31mTypeError\u001b[0m                                 Traceback (most recent call last)",
      "\u001b[0;32m<ipython-input-34-1ae497533029>\u001b[0m in \u001b[0;36m<module>\u001b[0;34m()\u001b[0m\n\u001b[1;32m      3\u001b[0m     \u001b[0mprint\u001b[0m \u001b[0;34m(\u001b[0m\u001b[0mscore_subgroup_array\u001b[0m\u001b[0;34m[\u001b[0m\u001b[0mitem\u001b[0m\u001b[0;34m]\u001b[0m\u001b[0;34m[\u001b[0m\u001b[0;36m2\u001b[0m\u001b[0;34m]\u001b[0m\u001b[0;34m)\u001b[0m\u001b[0;34m\u001b[0m\u001b[0m\n\u001b[1;32m      4\u001b[0m     \u001b[0mvals\u001b[0m \u001b[0;34m=\u001b[0m \u001b[0mscore_subgroup_array\u001b[0m\u001b[0;34m[\u001b[0m\u001b[0mitem\u001b[0m\u001b[0;34m]\u001b[0m\u001b[0;34m[\u001b[0m\u001b[0;36m2\u001b[0m\u001b[0;34m]\u001b[0m\u001b[0;34m.\u001b[0m\u001b[0msplit\u001b[0m\u001b[0;34m(\u001b[0m\u001b[0;34m'_'\u001b[0m\u001b[0;34m,\u001b[0m \u001b[0;36m17\u001b[0m\u001b[0;34m)\u001b[0m\u001b[0;34m\u001b[0m\u001b[0m\n\u001b[0;32m----> 5\u001b[0;31m     \u001b[0mfile_to_copy\u001b[0m \u001b[0;34m=\u001b[0m \u001b[0mdirectory\u001b[0m \u001b[0;34m+\u001b[0m \u001b[0;34m'/'\u001b[0m \u001b[0;34m+\u001b[0m \u001b[0mscore_subgroup_array\u001b[0m\u001b[0;34m[\u001b[0m\u001b[0mitem\u001b[0m\u001b[0;34m]\u001b[0m\u001b[0;34m[\u001b[0m\u001b[0;36m6\u001b[0m\u001b[0;34m]\u001b[0m \u001b[0;34m+\u001b[0m \u001b[0;34m'.pdb'\u001b[0m\u001b[0;34m\u001b[0m\u001b[0m\n\u001b[0m\u001b[1;32m      6\u001b[0m     \u001b[0mprint\u001b[0m \u001b[0;34m(\u001b[0m\u001b[0mfile_to_copy\u001b[0m\u001b[0;34m)\u001b[0m\u001b[0;34m\u001b[0m\u001b[0m\n\u001b[1;32m      7\u001b[0m     \u001b[0mdestination\u001b[0m \u001b[0;34m=\u001b[0m \u001b[0;34m\"~/hBundles/nickel/pssm_designs/\"\u001b[0m \u001b[0;34m+\u001b[0m \u001b[0mscore_subgroup_array\u001b[0m\u001b[0;34m[\u001b[0m\u001b[0mitem\u001b[0m\u001b[0;34m]\u001b[0m\u001b[0;34m[\u001b[0m\u001b[0;36m6\u001b[0m\u001b[0;34m]\u001b[0m \u001b[0;34m+\u001b[0m \u001b[0;34m'.pdb'\u001b[0m\u001b[0;34m\u001b[0m\u001b[0m\n",
      "\u001b[0;31mTypeError\u001b[0m: Can't convert 'float' object to str implicitly"
     ]
    }
   ],
   "source": [
    "score_subgroup_array = score_subgroup.as_matrix()\n",
    "for item in range(0, len(score_subgroup_array)):\n",
    "    print (score_subgroup_array[item][2])\n",
    "#    vals = score_subgroup_array[item][2].split('_', 17)\n",
    "    file_to_copy = directory + '/' + score_subgroup_array[item][6] + '.pdb'\n",
    "    print (file_to_copy)\n",
    "    destination = \"~/hBundles/nickel/pssm_designs/\" + score_subgroup_array[item][6] + '.pdb'\n",
    "    print (destination)\n",
    "#    new_file_name = str(int(score_subgroup_array[item][2])) + '_' + score_subgroup_array[item][3] + '.pdb'\n",
    "    shutil.copyfile(file_to_copy, destination)"
   ]
  },
  {
   "cell_type": "code",
   "execution_count": 43,
   "metadata": {},
   "outputs": [
    {
     "ename": "IndentationError",
     "evalue": "unindent does not match any outer indentation level (<ipython-input-43-41618059e865>, line 6)",
     "output_type": "error",
     "traceback": [
      "\u001b[1;36m  File \u001b[1;32m\"<ipython-input-43-41618059e865>\"\u001b[1;36m, line \u001b[1;32m6\u001b[0m\n\u001b[1;33m    \"            vals = line.replace(' ', '').split('\\\\t', 25)\\n\",\u001b[0m\n\u001b[1;37m                                                                  ^\u001b[0m\n\u001b[1;31mIndentationError\u001b[0m\u001b[1;31m:\u001b[0m unindent does not match any outer indentation level\n"
     ]
    }
   ],
   "source": [
    "proba = np.zeros((109, 20))\n",
    "input_file = \"/gpfs/DS3524-1/WORK/av9/beta_barrel/bluePrintBuild/AAG-AA-AAG-AA-AAG-AA-AAG/round_6/pdbs.probs.txt\"\n",
    "with open(input_file, 'r') as f:\n",
    "    for line in f:\n",
    "        if line[0] != \"#\":\n",
    "      \"            vals = line.replace(' ', '').split('\\\\t', 25)\\n\",\n",
    "      \"            proba[int(vals[0])-1] = vals[1:21]\\n\",\n",
    "      \" \\n\",\n",
    "      \"print proba\\n\",\n",
    "      \"my_xticks = ['A', 'C', 'D', 'E', 'F', 'G', 'H', 'I', 'K', 'L', 'M', 'N', 'P', 'Q', 'R', 'S', 'T', 'V', 'W', 'Y']\\n\",\n",
    "      \"plt.pcolor(proba)\\n\",\n",
    "      \"plt.colorbar()\\n\",\n",
    "      \"proba = proba /score_subgroup.shape[0]"
   ]
  },
  {
   "cell_type": "code",
   "execution_count": 52,
   "metadata": {},
   "outputs": [
    {
     "name": "stdout",
     "output_type": "stream",
     "text": [
      "[]\n",
      "['A', 'D', 'N', 'P', 'S', 'T']\n",
      "['A', 'P', 'W']\n",
      "['A', 'D', 'E', 'F', 'I', 'L', 'M', 'R', 'S', 'W']\n",
      "['A']\n",
      "['L']\n",
      "['A', 'F', 'G', 'L', 'Q', 'R', 'W', 'Y']\n",
      "['P']\n",
      "['G']\n",
      "['K', 'R', 'T']\n",
      "['W', 'Y']\n",
      "['E', 'R', 'T']\n",
      "['I', 'V', 'W']\n",
      "['E', 'R', 'T']\n",
      "['M', 'V']\n",
      "['E', 'K', 'Q', 'R']\n",
      "['E', 'I', 'R', 'S', 'V']\n",
      "['E', 'S']\n",
      "['D']\n",
      "['G']\n",
      "['K', 'R']\n",
      "['E', 'R', 'T']\n",
      "['E', 'W']\n",
      "['E', 'R', 'T']\n",
      "['G']\n",
      "['E', 'H', 'K', 'T']\n",
      "['A', 'M']\n",
      "['E']\n",
      "['I', 'V']\n",
      "['H', 'K']\n",
      "['P']\n",
      "['R', 'T']\n",
      "['T']\n",
      "[]\n",
      "['D', 'T', 'Y']\n",
      "['E', 'K', 'R']\n",
      "['A', 'V']\n",
      "['E', 'K']\n",
      "['I', 'V']\n",
      "['E', 'R', 'T']\n",
      "['F', 'I']\n",
      "['E', 'K', 'S', 'T']\n",
      "['G']\n",
      "['K']\n",
      "['E', 'Q', 'R', 'S', 'T']\n",
      "['A', 'E', 'S']\n",
      "['D']\n",
      "['G']\n",
      "['R']\n",
      "['P']\n",
      "['A', 'F', 'I', 'T', 'V', 'W']\n",
      "['E', 'R', 'S']\n",
      "['G']\n",
      "['S', 'T']\n",
      "['G']\n",
      "['E', 'H', 'K', 'T']\n",
      "['I', 'M', 'V']\n",
      "['E', 'K', 'R', 'T']\n",
      "['A', 'V']\n",
      "['K', 'R', 'T']\n",
      "['T']\n",
      "[]\n",
      "['D', 'T', 'Y']\n",
      "['E', 'K', 'R']\n",
      "['A', 'V']\n",
      "['E', 'K', 'R']\n",
      "['I', 'M']\n",
      "['E', 'R', 'T']\n",
      "['I', 'M', 'V']\n",
      "['E', 'K', 'Q', 'R']\n",
      "['E', 'F', 'L', 'V', 'W', 'Y']\n",
      "['E', 'K', 'S']\n",
      "['D']\n",
      "['G']\n",
      "['K', 'R', 'S']\n",
      "['E', 'R', 'T']\n",
      "['A', 'M', 'V']\n",
      "['R', 'T']\n",
      "['G']\n",
      "['E', 'K', 'T']\n",
      "['I', 'M', 'V']\n",
      "['E', 'K', 'R']\n",
      "['A', 'M', 'V']\n",
      "['I', 'K', 'L', 'R', 'T']\n",
      "['S', 'T']\n",
      "[]\n",
      "['D', 'T', 'Y']\n",
      "['E', 'K', 'R']\n",
      "['A', 'M', 'V']\n",
      "['E', 'K', 'R']\n",
      "['I', 'M']\n",
      "['E', 'R', 'T']\n",
      "['M', 'V']\n",
      "['E', 'K', 'Q', 'R']\n",
      "['E', 'I', 'R', 'S', 'V']\n",
      "['A', 'E', 'S', 'V']\n",
      "['D']\n",
      "['G']\n",
      "['A', 'K', 'R', 'S', 'Y']\n",
      "['E', 'R', 'T']\n",
      "['A', 'I', 'M', 'V']\n",
      "['R', 'S', 'T']\n",
      "['G']\n",
      "['E', 'K', 'R', 'T']\n",
      "['A', 'M']\n",
      "['E', 'K', 'R', 'T']\n",
      "['Q', 'R']\n",
      "['R', 'T']\n",
      "[]\n"
     ]
    }
   ],
   "source": []
  },
  {
   "cell_type": "code",
   "execution_count": null,
   "metadata": {
    "collapsed": true
   },
   "outputs": [],
   "source": []
  }
 ],
 "metadata": {
  "kernelspec": {
   "display_name": "Python [default]",
   "language": "python",
   "name": "python3"
  },
  "language_info": {
   "codemirror_mode": {
    "name": "ipython",
    "version": 3
   },
   "file_extension": ".py",
   "mimetype": "text/x-python",
   "name": "python",
   "nbconvert_exporter": "python",
   "pygments_lexer": "ipython3",
   "version": "3.5.4"
  }
 },
 "nbformat": 4,
 "nbformat_minor": 1
}
